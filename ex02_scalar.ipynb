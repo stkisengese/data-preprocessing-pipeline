{
 "cells": [
  {
   "cell_type": "code",
   "execution_count": 2,
   "id": "6b009585-f4b3-47c3-aafa-f65f1b8bc0fb",
   "metadata": {},
   "outputs": [],
   "source": [
    "import numpy as np\n",
    "from sklearn.preprocessing import StandardScaler"
   ]
  },
  {
   "cell_type": "code",
   "execution_count": 5,
   "id": "3cce3acd-cae3-4b2d-b72d-d56160427e0d",
   "metadata": {},
   "outputs": [
    {
     "name": "stdout",
     "output_type": "stream",
     "text": [
      "Scaled X_train:\n",
      " [[ 0.         -1.22474487  1.33630621]\n",
      " [ 1.22474487  0.         -0.26726124]\n",
      " [-1.22474487  1.22474487 -1.06904497]]\n",
      "Feature-wise mean (training): [1.         0.         0.33333333]\n",
      "Feature-wise std (training): [0.81649658 0.81649658 1.24721913]\n"
     ]
    }
   ],
   "source": [
    "X_train = np.array([[ 1., -1.,  2.],\n",
    "                    [ 2.,  0.,  0.],\n",
    "                    [ 0.,  1., -1.]])\n",
    "\n",
    "X_test = np.array([[ 2., -1.,  1.],\n",
    "                   [ 3.,  3., -1.],\n",
    "                   [ 1.,  1.,  1.]])\n",
    "\n",
    "# fit and scale training data\n",
    "scaler = StandardScaler()\n",
    "X_train_scaled = scaler.fit_transform(X_train)\n",
    "\n",
    "print(\"Scaled X_train:\\n\", X_train_scaled)\n",
    "print(\"Feature-wise mean (training):\", scaler.mean_)\n",
    "print(\"Feature-wise std (training):\", np.sqrt(scaler.var_))"
   ]
  },
  {
   "cell_type": "code",
   "execution_count": 6,
   "id": "6533eed5-7191-47b1-9400-b5cf692520da",
   "metadata": {},
   "outputs": [
    {
     "name": "stdout",
     "output_type": "stream",
     "text": [
      "Mean after scaling: [0. 0. 0.]\n",
      "Std after scaling: [1. 1. 1.]\n"
     ]
    }
   ],
   "source": [
    "print(\"Mean after scaling:\", X_train_scaled.mean(axis=0))\n",
    "print(\"Std after scaling:\", X_train_scaled.std(axis=0))"
   ]
  },
  {
   "cell_type": "code",
   "execution_count": null,
   "id": "a18b0e4d-04af-4dd1-805c-8716886aed34",
   "metadata": {},
   "outputs": [],
   "source": []
  }
 ],
 "metadata": {
  "kernelspec": {
   "display_name": "Python 3 (ipykernel)",
   "language": "python",
   "name": "python3"
  },
  "language_info": {
   "codemirror_mode": {
    "name": "ipython",
    "version": 3
   },
   "file_extension": ".py",
   "mimetype": "text/x-python",
   "name": "python",
   "nbconvert_exporter": "python",
   "pygments_lexer": "ipython3",
   "version": "3.12.11"
  }
 },
 "nbformat": 4,
 "nbformat_minor": 5
}
