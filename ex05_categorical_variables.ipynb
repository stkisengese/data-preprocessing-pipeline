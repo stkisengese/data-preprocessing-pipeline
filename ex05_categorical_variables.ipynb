{
 "cells": [
  {
   "cell_type": "code",
   "execution_count": 1,
   "id": "3252721d-7962-4cd9-be41-4cc36c8690c9",
   "metadata": {},
   "outputs": [],
   "source": [
    "import pandas as pd\n",
    "import numpy as np\n",
    "from sklearn.model_selection import train_test_split\n",
    "from sklearn.preprocessing import OneHotEncoder, OrdinalEncoder\n",
    "from sklearn.compose import make_column_transformer"
   ]
  },
  {
   "cell_type": "code",
   "execution_count": 11,
   "id": "4cdf5a69-9265-4650-852a-7202e20ecb8c",
   "metadata": {},
   "outputs": [
    {
     "name": "stdout",
     "output_type": "stream",
     "text": [
      "Unique values per feature (train):\n",
      "age             6\n",
      "menopause       3\n",
      "tumor-size     11\n",
      "inv-nodes       6\n",
      "node-caps       2\n",
      "deg-malig       3\n",
      "breast          2\n",
      "breast-quad     5\n",
      "irradiat        2\n",
      "dtype: int64\n",
      "       age menopause tumor-size inv-nodes node-caps  deg-malig breast  \\\n",
      "210  40-49      ge40      25-29     12-14       yes          3   left   \n",
      "111  60-69      ge40      30-34       0-2        no          2   left   \n",
      "17   60-69      ge40      15-19       0-2        no          2  right   \n",
      "170  50-59      ge40      20-24       0-2        no          2  right   \n",
      "146  30-39   premeno      30-34      9-11        no          2  right   \n",
      "\n",
      "    breast-quad irradiat  \n",
      "210   right_low      yes  \n",
      "111    left_low      yes  \n",
      "17      left_up       no  \n",
      "170     central       no  \n",
      "146     left_up      yes  \n"
     ]
    }
   ],
   "source": [
    "# Load dataset\n",
    "df = pd.read_csv(\"breast-cancer.csv\", header=None)\n",
    "\n",
    "# Assign proper column names\n",
    "df.columns = [\n",
    "    \"age\", \"menopause\", \"tumor-size\", \"inv-nodes\", \"node-caps\",\n",
    "    \"deg-malig\", \"breast\", \"breast-quad\", \"irradiat\", \"Class\"\n",
    "]\n",
    "df = df.dropna()\n",
    "\n",
    "# Drop target and NaN\n",
    "X = df.drop(\"Class\", axis=1)\n",
    "y = df[\"Class\"]\n",
    "\n",
    "# Split data\n",
    "X_train, X_test, y_train, y_test = train_test_split(\n",
    "    X, y, test_size=0.2, random_state=43\n",
    ")\n",
    "\n",
    "# Check unique values\n",
    "print(\"Unique values per feature (train):\")\n",
    "print(X_train.nunique())\n",
    "# print(X_train.head())"
   ]
  },
  {
   "cell_type": "code",
   "execution_count": null,
   "id": "16810432-6270-4c79-b5fd-7a56ea6f86ab",
   "metadata": {},
   "outputs": [],
   "source": []
  }
 ],
 "metadata": {
  "kernelspec": {
   "display_name": "Python 3 (ipykernel)",
   "language": "python",
   "name": "python3"
  },
  "language_info": {
   "codemirror_mode": {
    "name": "ipython",
    "version": 3
   },
   "file_extension": ".py",
   "mimetype": "text/x-python",
   "name": "python",
   "nbconvert_exporter": "python",
   "pygments_lexer": "ipython3",
   "version": "3.12.11"
  }
 },
 "nbformat": 4,
 "nbformat_minor": 5
}
