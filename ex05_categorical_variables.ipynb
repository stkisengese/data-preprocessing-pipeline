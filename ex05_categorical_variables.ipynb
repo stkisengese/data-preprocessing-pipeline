{
 "cells": [
  {
   "cell_type": "code",
   "execution_count": 1,
   "id": "3252721d-7962-4cd9-be41-4cc36c8690c9",
   "metadata": {},
   "outputs": [],
   "source": [
    "import pandas as pd\n",
    "import numpy as np\n",
    "from sklearn.model_selection import train_test_split\n",
    "from sklearn.preprocessing import OneHotEncoder, OrdinalEncoder\n",
    "from sklearn.compose import make_column_transformer"
   ]
  },
  {
   "cell_type": "code",
   "execution_count": 12,
   "id": "4cdf5a69-9265-4650-852a-7202e20ecb8c",
   "metadata": {},
   "outputs": [
    {
     "name": "stdout",
     "output_type": "stream",
     "text": [
      "Unique values per feature (train):\n",
      "age             6\n",
      "menopause       3\n",
      "tumor-size     11\n",
      "inv-nodes       6\n",
      "node-caps       2\n",
      "deg-malig       3\n",
      "breast          2\n",
      "breast-quad     5\n",
      "irradiat        2\n",
      "dtype: int64\n"
     ]
    }
   ],
   "source": [
    "# Load dataset\n",
    "df = pd.read_csv(\"breast-cancer.csv\", header=None)\n",
    "\n",
    "# Assign proper column names\n",
    "df.columns = [\n",
    "    \"age\", \"menopause\", \"tumor-size\", \"inv-nodes\", \"node-caps\",\n",
    "    \"deg-malig\", \"breast\", \"breast-quad\", \"irradiat\", \"Class\"\n",
    "]\n",
    "df = df.dropna()\n",
    "\n",
    "# Drop target and NaN\n",
    "X = df.drop(\"Class\", axis=1)\n",
    "y = df[\"Class\"]\n",
    "\n",
    "# Split data\n",
    "X_train, X_test, y_train, y_test = train_test_split(\n",
    "    X, y, test_size=0.2, random_state=43\n",
    ")\n",
    "\n",
    "# Check unique values\n",
    "print(\"Unique values per feature (train):\")\n",
    "print(X_train.nunique())\n",
    "# print(X_train.head())"
   ]
  },
  {
   "cell_type": "code",
   "execution_count": 15,
   "id": "16810432-6270-4c79-b5fd-7a56ea6f86ab",
   "metadata": {},
   "outputs": [],
   "source": [
    "# Define columns for different encoders\n",
    "ohe_features = ['node-caps', 'breast', 'breast-quad', 'irradiat']\n",
    "ord_features = [\"menopause\", \"age\", \"tumor-size\", \"inv-nodes\", \"deg-malig\"]\n",
    "\n",
    "# Categories for OrdinalEncoder\n",
    "ord_categories = [\n",
    "    ['lt40', 'premeno', 'ge40'],  # menopause\n",
    "    ['10-19','20-29','30-39','40-49','50-59','60-69','70-79','80-89','90-99'],  # age\n",
    "    ['0-4','5-9','10-14','15-19','20-24','25-29','30-34','35-39','40-44','45-49','50-54','55-59'],  # tumor-size\n",
    "    ['0-2','3-5','6-8','9-11','12-14','15-17','18-20','21-23','24-26','27-29','30-32','33-35','36-39'],  # inv-nodes\n",
    "    [1, 2, 3]  # deg-malig\n",
    "]\n",
    "\n",
    "# OrdinalEncoder\n",
    "ord_enc = OrdinalEncoder(categories=ord_categories)\n",
    "\n",
    "# OneHotEncoder (ignore unknown to be safe)\n",
    "ohe_enc = OneHotEncoder(handle_unknown=\"ignore\")\n"
   ]
  },
  {
   "cell_type": "code",
   "execution_count": null,
   "id": "9517d358-edef-431e-af02-a55122136119",
   "metadata": {},
   "outputs": [],
   "source": []
  }
 ],
 "metadata": {
  "kernelspec": {
   "display_name": "Python 3 (ipykernel)",
   "language": "python",
   "name": "python3"
  },
  "language_info": {
   "codemirror_mode": {
    "name": "ipython",
    "version": 3
   },
   "file_extension": ".py",
   "mimetype": "text/x-python",
   "name": "python",
   "nbconvert_exporter": "python",
   "pygments_lexer": "ipython3",
   "version": "3.12.11"
  }
 },
 "nbformat": 4,
 "nbformat_minor": 5
}
