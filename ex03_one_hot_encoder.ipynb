{
 "cells": [
  {
   "cell_type": "code",
   "execution_count": 1,
   "id": "1205396f-cf35-46d3-88d7-70726d4959cc",
   "metadata": {},
   "outputs": [],
   "source": [
    "import numpy as np\n",
    "import pandas as pd\n",
    "from sklearn.preprocessing import OneHotEncoder"
   ]
  },
  {
   "cell_type": "code",
   "execution_count": 9,
   "id": "b2643b55-38bd-4ad5-8034-cdf91d941486",
   "metadata": {},
   "outputs": [
    {
     "name": "stdout",
     "output_type": "stream",
     "text": [
      "Train data encoded:\n",
      "   C++  Java  Python\n",
      "0  0.0   0.0     1.0\n",
      "1  0.0   1.0     0.0\n",
      "2  0.0   1.0     0.0\n",
      "3  1.0   0.0     0.0\n"
     ]
    }
   ],
   "source": [
    "X_train = [['Python'], ['Java'], ['Java'], ['C++']]\n",
    "X_test  = [['Python'], ['Java'], ['C'], ['C++']]\n",
    "\n",
    "# Fit the OneHotEncoder\n",
    "encoder = OneHotEncoder(handle_unknown=\"ignore\")\n",
    "encoder.fit(X_train)\n",
    "\n",
    "# Transform train data and create DataFrame\n",
    "X_train_encoded = encoder.transform(X_train).toarray()\n",
    "df_train = pd.DataFrame(X_train_encoded, columns=encoder.categories_[0])\n",
    "print(\"Train data encoded:\")\n",
    "print(df_train)"
   ]
  },
  {
   "cell_type": "code",
   "execution_count": null,
   "id": "add31dfb-41db-4ffd-b3c6-ee24a031e0cb",
   "metadata": {},
   "outputs": [],
   "source": []
  }
 ],
 "metadata": {
  "kernelspec": {
   "display_name": "Python 3 (ipykernel)",
   "language": "python",
   "name": "python3"
  },
  "language_info": {
   "codemirror_mode": {
    "name": "ipython",
    "version": 3
   },
   "file_extension": ".py",
   "mimetype": "text/x-python",
   "name": "python",
   "nbconvert_exporter": "python",
   "pygments_lexer": "ipython3",
   "version": "3.12.11"
  }
 },
 "nbformat": 4,
 "nbformat_minor": 5
}
