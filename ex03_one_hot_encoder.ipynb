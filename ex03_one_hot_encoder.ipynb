{
 "cells": [
  {
   "cell_type": "code",
   "execution_count": 1,
   "id": "1205396f-cf35-46d3-88d7-70726d4959cc",
   "metadata": {},
   "outputs": [],
   "source": [
    "import numpy as np\n",
    "import pandas as pd\n",
    "from sklearn.preprocessing import OneHotEncoder"
   ]
  },
  {
   "cell_type": "code",
   "execution_count": 11,
   "id": "b2643b55-38bd-4ad5-8034-cdf91d941486",
   "metadata": {},
   "outputs": [
    {
     "name": "stdout",
     "output_type": "stream",
     "text": [
      "Train data encoded:\n",
      "   C++  Java  Python\n",
      "0  0.0   0.0     1.0\n",
      "1  0.0   1.0     0.0\n",
      "2  0.0   1.0     0.0\n",
      "3  1.0   0.0     0.0\n"
     ]
    }
   ],
   "source": [
    "X_train = [['Python'], ['Java'], ['Java'], ['C++']]\n",
    "X_test  = [['Python'], ['Java'], ['C'], ['C++']]\n",
    "\n",
    "# Fit the OneHotEncoder\n",
    "encoder = OneHotEncoder(handle_unknown=\"ignore\")\n",
    "encoder.fit(X_train)\n",
    "\n",
    "# Transform train data and create DataFrame\n",
    "X_train_encoded = encoder.transform(X_train).toarray()\n",
    "\n",
    "# Column names come from encoder.categories_\n",
    "columns = encoder.categories_[0]\n",
    "df_train = pd.DataFrame(X_train_encoded, columns=columns)\n",
    "print(\"Train data encoded:\")\n",
    "print(df_train)"
   ]
  },
  {
   "cell_type": "code",
   "execution_count": 13,
   "id": "add31dfb-41db-4ffd-b3c6-ee24a031e0cb",
   "metadata": {},
   "outputs": [
    {
     "name": "stdout",
     "output_type": "stream",
     "text": [
      "Test data encoded:\n",
      "   C++  Java  Python\n",
      "0  0.0   0.0     1.0\n",
      "1  0.0   1.0     0.0\n",
      "2  0.0   0.0     0.0\n",
      "3  1.0   0.0     0.0\n"
     ]
    }
   ],
   "source": [
    "X_test_encoded = encoder.transform(X_test).toarray()\n",
    "\n",
    "df_test = pd.DataFrame(X_test_encoded, columns=columns)\n",
    "print(\"Test data encoded:\")\n",
    "print(df_test)"
   ]
  },
  {
   "cell_type": "code",
   "execution_count": 14,
   "id": "1dfee39a-e2f7-4f48-b1e6-893779a07dce",
   "metadata": {},
   "outputs": [],
   "source": [
    "# Key Learning\n",
    "## OneHotEncoder expands a categorical feature into binary indicator columns.\n",
    "## Training set defines the “vocabulary” of categories (encoder.categories_).\n",
    "## Unknown categories in test set → all zeros (because of handle_unknown=\"ignore\").\n",
    "## Always fit on train, then transform train & test."
   ]
  },
  {
   "cell_type": "code",
   "execution_count": null,
   "id": "467617d3-fe2d-45d3-99d6-fc2bc2644eab",
   "metadata": {},
   "outputs": [],
   "source": []
  }
 ],
 "metadata": {
  "kernelspec": {
   "display_name": "Python 3 (ipykernel)",
   "language": "python",
   "name": "python3"
  },
  "language_info": {
   "codemirror_mode": {
    "name": "ipython",
    "version": 3
   },
   "file_extension": ".py",
   "mimetype": "text/x-python",
   "name": "python",
   "nbconvert_exporter": "python",
   "pygments_lexer": "ipython3",
   "version": "3.12.11"
  }
 },
 "nbformat": 4,
 "nbformat_minor": 5
}
