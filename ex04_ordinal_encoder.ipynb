{
 "cells": [
  {
   "cell_type": "code",
   "execution_count": 1,
   "id": "ee334796-145f-44ec-aeab-9c717f093dda",
   "metadata": {},
   "outputs": [],
   "source": [
    "import numpy as np\n",
    "import pandas as pd\n",
    "from sklearn.preprocessing import OrdinalEncoder"
   ]
  },
  {
   "cell_type": "code",
   "execution_count": 5,
   "id": "1bf99fe4-34d7-4ffd-9928-c8edc8a9e766",
   "metadata": {},
   "outputs": [
    {
     "name": "stdout",
     "output_type": "stream",
     "text": [
      "Transformed train data:\n",
      " [[2.]\n",
      " [0.]\n",
      " [1.]]\n",
      "Categories: [array(['bad', 'neutral', 'good'], dtype=object)]\n"
     ]
    }
   ],
   "source": [
    "X_train = [['good'], ['bad'], ['neutral']]\n",
    "X_test  = [['good'], ['good'], ['bad']]\n",
    "\n",
    "# fit Ordinal encoder with specified categories\n",
    "encoder = OrdinalEncoder(categories=[['bad', 'neutral', 'good']])\n",
    "encoder.fit(X_train)\n",
    "\n",
    "# transform the train set\n",
    "X_train_encoded = encoder.transform(X_train)\n",
    "print(\"Transformed train data:\\n\", X_train_encoded)\n",
    "print(\"Categories:\", encoder.categories_)"
   ]
  },
  {
   "cell_type": "code",
   "execution_count": 6,
   "id": "73556c76-507e-44a9-97f5-66649f036b86",
   "metadata": {},
   "outputs": [
    {
     "name": "stdout",
     "output_type": "stream",
     "text": [
      "Transformed test data:\n",
      " [[2.]\n",
      " [2.]\n",
      " [0.]]\n"
     ]
    }
   ],
   "source": [
    "# transform test data\n",
    "X_test_encoded = encoder.transform(X_test)\n",
    "print(\"Transformed test data:\\n\", X_test_encoded)"
   ]
  },
  {
   "cell_type": "code",
   "execution_count": null,
   "id": "9e60d2fb-fda9-4c85-9878-90de028e77a0",
   "metadata": {},
   "outputs": [],
   "source": []
  }
 ],
 "metadata": {
  "kernelspec": {
   "display_name": "Python 3 (ipykernel)",
   "language": "python",
   "name": "python3"
  },
  "language_info": {
   "codemirror_mode": {
    "name": "ipython",
    "version": 3
   },
   "file_extension": ".py",
   "mimetype": "text/x-python",
   "name": "python",
   "nbconvert_exporter": "python",
   "pygments_lexer": "ipython3",
   "version": "3.12.11"
  }
 },
 "nbformat": 4,
 "nbformat_minor": 5
}
